{
 "cells": [
  {
   "cell_type": "markdown",
   "metadata": {},
   "source": [
    "# Data Collection"
   ]
  },
  {
   "cell_type": "code",
   "execution_count": null,
   "metadata": {},
   "outputs": [],
   "source": [
    "def read_and_concat_csv(filepath, quantity):\n",
    "    temp_df_A = pd.DataFrame()\n",
    "    for x in range(quantity):\n",
    "        temp_df_B = pd.read_csv(f'{filepath}{x+1}.csv')\n",
    "        temp_df_A = pd.concat([temp_df_A, temp_df_B])\n",
    "    return temp_df_A"
   ]
  },
  {
   "cell_type": "code",
   "execution_count": null,
   "metadata": {},
   "outputs": [],
   "source": [
    "daily_2016_standard = read_and_concat_csv(\n",
    "    '../data/batters_2016_daily/batters_2016_daily_standard', 6)\n",
    "daily_2016_advanced = read_and_concat_csv(\n",
    "    '../data/batters_2016_daily/batters_2016_daily_advanced', 6)\n",
    "daily_2016_battedballs = read_and_concat_csv(\n",
    "    '../data/batters_2016_daily/batters_2016_daily_battedballs', 6)"
   ]
  },
  {
   "cell_type": "code",
   "execution_count": null,
   "metadata": {},
   "outputs": [],
   "source": [
    "daily_2016 = daily_2016_standard.merge(daily_2016_advanced)\n",
    "daily_2016 = daily_2016.merge(daily_2016_battedballs)"
   ]
  },
  {
   "cell_type": "code",
   "execution_count": null,
   "metadata": {},
   "outputs": [],
   "source": [
    "daily_2017_standard = read_and_concat_csv(\n",
    "    '../data/batters_2017_daily/batters_2017_daily_standard', 6)\n",
    "daily_2017_advanced = read_and_concat_csv(\n",
    "    '../data/batters_2017_daily/batters_2017_daily_advanced', 6)\n",
    "daily_2017_battedballs = read_and_concat_csv(\n",
    "    '../data/batters_2017_daily/batters_2017_daily_battedballs', 6)"
   ]
  },
  {
   "cell_type": "code",
   "execution_count": null,
   "metadata": {},
   "outputs": [],
   "source": [
    "daily_2017 = daily_2017_standard.merge(daily_2017_advanced)\n",
    "daily_2017 = daily_2017.merge(daily_2017_battedballs)"
   ]
  },
  {
   "cell_type": "code",
   "execution_count": null,
   "metadata": {},
   "outputs": [],
   "source": [
    "daily_2018_standard = read_and_concat_csv(\n",
    "    '../data/batters_2018_daily/batters_2018_daily_standard', 6)\n",
    "daily_2018_advanced = read_and_concat_csv(\n",
    "    '../data/batters_2018_daily/batters_2018_daily_advanced', 6)\n",
    "daily_2018_battedballs = read_and_concat_csv(\n",
    "    '../data/batters_2018_daily/batters_2018_daily_battedballs', 6)"
   ]
  },
  {
   "cell_type": "code",
   "execution_count": null,
   "metadata": {},
   "outputs": [],
   "source": [
    "daily_2018 = daily_2018_standard.merge(daily_2018_advanced)\n",
    "daily_2018 = daily_2018.merge(daily_2018_battedballs)"
   ]
  },
  {
   "cell_type": "code",
   "execution_count": null,
   "metadata": {},
   "outputs": [],
   "source": [
    "daily_2019_standard = read_and_concat_csv(\n",
    "    '../data/batters_2019_daily/batters_2019_daily_standard', 2)\n",
    "daily_2019_advanced = read_and_concat_csv(\n",
    "    '../data/batters_2019_daily/batters_2019_daily_advanced', 2)\n",
    "daily_2019_battedballs = read_and_concat_csv(\n",
    "    '../data/batters_2019_daily/batters_2019_daily_battedballs', 2)"
   ]
  },
  {
   "cell_type": "code",
   "execution_count": null,
   "metadata": {},
   "outputs": [],
   "source": [
    "daily_2019 = daily_2019_standard.merge(daily_2019_advanced)\n",
    "daily_2019 = daily_2019.merge(daily_2019_battedballs)"
   ]
  },
  {
   "cell_type": "markdown",
   "metadata": {},
   "source": [
    "---\n",
    "### Exporting"
   ]
  },
  {
   "cell_type": "code",
   "execution_count": null,
   "metadata": {},
   "outputs": [],
   "source": [
    "# daily_2016.to_csv('../data/batters_2016_daily_master.csv',\n",
    "#                   index=False)\n",
    "# daily_2017.to_csv('../data/batters_2017_daily_master.csv',\n",
    "#                   index=False)\n",
    "# daily_2018.to_csv('../data/batters_2018_daily_master.csv',\n",
    "#                   index=False)\n",
    "# daily_2019.to_csv('../data/batters_2019_daily_master.csv',\n",
    "#                   index=False)"
   ]
  }
 ],
 "metadata": {
  "kernelspec": {
   "display_name": "Python 3",
   "language": "python",
   "name": "python3"
  },
  "language_info": {
   "codemirror_mode": {
    "name": "ipython",
    "version": 3
   },
   "file_extension": ".py",
   "mimetype": "text/x-python",
   "name": "python",
   "nbconvert_exporter": "python",
   "pygments_lexer": "ipython3",
   "version": "3.7.1"
  }
 },
 "nbformat": 4,
 "nbformat_minor": 2
}
