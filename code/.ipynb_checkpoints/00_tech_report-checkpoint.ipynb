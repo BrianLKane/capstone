{
 "cells": [
  {
   "cell_type": "markdown",
   "metadata": {},
   "source": [
    "# Technical Report - \"Beat the Streak\" Hit Predictor\n",
    "---"
   ]
  },
  {
   "cell_type": "markdown",
   "metadata": {},
   "source": [
    "## Problem Statement\n",
    "Since 2001, Major League Baseball has hosted the \"Beat the Streak\" competition. Every day of the regular season, participants can choose a player who they think will record a hit in that day's game. If a participant builds up a virtual \"hitting streak\" of 57 games to beat Joe DiMaggio's record 56-game hitting streak, he or she will receive a grand prize of $5.6 million dollars. With the competition currently in its nineteenth year, no one has ever won the prize.\n",
    "\n",
    "In order to increase the likelihood of success in \"Beat the Streak,\" I will use predictive analytics on batter performance data from three years worth of individual regular season games to create a binary classification model. This model will try to determine the safest player selections on a given day to extend a streak."
   ]
  },
  {
   "cell_type": "markdown",
   "metadata": {},
   "source": [
    "## Data Collection\n",
    "For this project, I collected batting data for the 2015-2018 regular seasons from [FanGraphs](https://www.fangraphs.com \"FanGraphs\"), along with batting data for the beginning of the 2019 season (through May 12) . Each row of data represents a single batter's stats for a single game. I downloaded the data in a series of csv files, but because of the way the data is structured I needed to reassemble each season into a single pandas DataFrame.\n",
    "\n",
    "FanGraphs categorizes the data into separate files for standard batting stats, advanced batting stats, and batted ball stats. A complete season of data consists of six files for each of these three different stat groups for a total of 18 csv files per season. I created a function to speed up the process of stitching together the 18 files into a single DataFrame for each season. The function takes in a base filepath that specifies the season and stat group, and it takes in the number of files in that series. It then concatenates all the files for each stat group.\n",
    "\n",
    "Once the four comprehensive DataFrames were compiled, one per season, I moved on to EDA, cleaning, and pre-processing."
   ]
  },
  {
   "cell_type": "markdown",
   "metadata": {},
   "source": [
    "## EDA\n",
    "The first step of my EDA and cleaning was to gauge the frequency of player appearances in each of the three seasons.\n",
    "\n",
    "![full_player_freq](../techreport_images/full_player_freq.png)\n",
    "\n",
    "I didn't like what I saw in that distribution. The data was dominated by observations of players who each individually made very few appearances in the season. If a player played that infrequently, I couldn't assume that his skills were in line with those of an everyday player. He may also be a pitcher, particularly in the American League where his batting opportunities would be limited to interleague away games. In any event, the performance of these infrequent batters are unlikely to be useful for predicting the performance of more offensive-focused players, and even the best bench players represent a much riskier proposition as Beat the Streak picks, so being able to predict their performance is not a priority for this project. For these reasons, I dropped all observations for players who appear in less than one quarter of the season's games, leaving me with the following distribution:\n",
    "\n",
    "![75_player_freq](../techreport_images/75_player_freq.png)"
   ]
  },
  {
   "cell_type": "markdown",
   "metadata": {},
   "source": [
    "## Modeling"
   ]
  },
  {
   "cell_type": "markdown",
   "metadata": {},
   "source": []
  },
  {
   "cell_type": "markdown",
   "metadata": {},
   "source": [
    "### Metric Selection (Strategy)"
   ]
  },
  {
   "cell_type": "markdown",
   "metadata": {},
   "source": [
    "### Results"
   ]
  },
  {
   "cell_type": "markdown",
   "metadata": {},
   "source": []
  },
  {
   "cell_type": "markdown",
   "metadata": {},
   "source": [
    "## Moving Forward\n",
    "The project as it stands is a reasonable first step but I can greatly improve the hit predictor in future iterations. Moving into Phase Two, I believe the biggest and most needed improvement is to **add opposing pitcher data** into the model's features. The myriad factors both in and out of each individual game that determine bullpen use will limit my ability to effectively include relief pitcher stats, but introducing relevant stats for each game's opposing starting pitcher is a reasonable next step. Introducing categorical **venue and weather statistics** for each game is the other main priority for Phase Two.\n",
    "\n",
    "Phase Three of the hit predictor will be more advanced as it involves adding a clustering component. By analyzing data on players' physical attributes, situational player performance, and style of play, I can **create player types for both batters and starting pitchers**. By introducing these profiles to the model, I can account for how certain types of batters fare against certain types of pitchers and incorporate that interaction into the predictions.\n",
    "\n",
    "Beyond the next steps of improving the hit predictor, if the process shows potential for broader performance prediction, these investigations could serve as the foundation of a **daily fantasy baseball lineup generator** for use on websites like DraftKings or FanDuel."
   ]
  },
  {
   "cell_type": "markdown",
   "metadata": {},
   "source": [
    "---"
   ]
  },
  {
   "cell_type": "markdown",
   "metadata": {},
   "source": [
    "---"
   ]
  },
  {
   "cell_type": "markdown",
   "metadata": {},
   "source": [
    "## Data Dictionary\n",
    "Descriptions for stats from the standard, advanced, and batted ball datasets were sourced from FanGraphs."
   ]
  },
  {
   "cell_type": "markdown",
   "metadata": {},
   "source": [
    "|Feature|Full Name|Type|Dataset|Description|\n",
    "|-|-|-|-|-|\n",
    "|Date|Game Date|object|n/a|The date on which the game was played.|\n",
    "|Name|Player Name|object|n/a|First and last name of the player.|\n",
    "|Tm|Player's Team|object|n/a|Name of the player's team.|\n",
    "|G  |Games Played|int|standard|Number of games in which the player has appeared.|\n",
    "|AB |At Bats|int|standard|Number of trips to the plate in which the batter does not walk, get hit by a pitch, sacrifice (fly or bunt), or reach on interference.|\n",
    "|PA |Plate Appearances|int|standard|Number of times the player has come to the plate.|\n",
    "|H  |Hits|int|standard|Number of hits.|\n",
    "|1B |Singles|int|standard|Number of singles.|\n",
    "|2B |Doubles|int|standard|Number of doubles.|\n",
    "|3B |Triples|int|standard|Number of triples.|\n",
    "|HR |Home Runs|int|standard|Number of home runs.|\n",
    "|R  |Runs Scored|int|standard|Number of runs scored.|\n",
    "|RBI|Runs Batted In|int|standard|Number of times a run scores as a result of a batter’s plate appearance, not counting situations in which an error caused the run to score or the batter hit into a double play.|\n",
    "|BB |Walks|int|standard|Total number of walks (includes IBB).|\n",
    "|IBB|Intentional Walks|int|standard|Number of times the batter was intentionally walked.|\n",
    "|SO |Strikeouts|int|standard|Number of strikeouts.|\n",
    "|HBP|Hit By Pitches|int|standard|Number of times the batter reached after being hit by a pitch.|\n",
    "|SF |Sacrifice Flies|int|standard|Number of times a batter’s fly out allowed a runner to tag up and score.|\n",
    "|SH |Sacrifice Bunts|int|standard|Any bunt in which there was a runner on base and less than two outs in which the batter was put out and at least one runner advanced.|\n",
    "|GDP|Grounded into Double Play|int|standard|Number of times the batter hit into a double play.|\n",
    "|SB |Stolen Bases|int|standard|Number of stolen bases.|\n",
    "|CS |Caught Stealing|int|standard|Number of times caught stealing.|\n",
    "|AVG|Batting Average|float|standard|Rate of hits per at bat, calculated as H/AB.|\n",
    "|playerId|n/a|int|n/a|Unique identifying number for each player.|\n",
    "|BB% |Walk Percentage|float|advanced| Frequency with which the batter has walked, calculated as walks divided by plate appearances.|\n",
    "|K% |Strikeout Percentage|float|advanced| Frequency with which the batter has struck out, calculated as strikeouts divided by plate appearances.|\n",
    "|BB/K |Walk to Strikeout Rate|float|advanced| Ratio of walks to strikeouts, calculated as Walks/Strikeouts.|\n",
    "|OBP |On Base Percentage|float|advanced| Rate at which the batter reaches base, calculated as (H+BB+HBP)/(AB+BB+HBP+SF).|\n",
    "|SLG |Slugging Percentage|float|advanced| Average number of total bases per at bat, calculated as Total Bases/AB.|\n",
    "|OPS |On Base Plus Slugging|float|advanced| Combination of OBP and SLG, calculated as OBP+SLG.|\n",
    "|ISO |Isolated Power|float|advanced| Average number of extra bases per at bat, calculated several ways such as SLG minus AVG.|\n",
    "|BABIP |Batting Average on Balls in Play|float|advanced| The rate at which the batter gets a hit when he puts the ball in play, calculated as (H-HR)/(AB-K-HR+SF).|\n",
    "|wRC |Weighted Runs Created|float|advanced| Number of runs a player has generated for his team as a result of his wOBA and playing time.|\n",
    "|wRAA |Weighted Runs Above Average|float|advanced| Number of runs above or below average a player has added as a hitter.|\n",
    "|wOBA |Weighted On Base Average|float|advanced| Combines all the different aspects of hitting into one metric, weighting each of them in proportion to their actual run value. While batting average, on-base percentage, and slugging percentage fall short in accuracy and scope, wOBA measures and captures offensive value more accurately and comprehensively.|\n",
    "|wRC+ |Weighted Runs Created Plus|float|advanced| The most comprehensive rate statistic used to measure hitting performance because it takes into account the varying weights of each offensive action (like wOBA) and then adjusts them for the park and league context in which they took place.|\n",
    "|GB/FB|Ground Ball to Fly Ball Ratio|float|batted ball|The ratio of ground balls a batter hits to fly balls, calculated as GB/FB.|\n",
    "|LD%  |Line Drive Percentage|float|batted ball|The percentage of a batter’s balls in play that are line drives, calculated as LD/BIP.|\n",
    "|GB%  |Ground Ball Percentage|float|batted ball|The percentage of a batter’s balls in play that are ground balls, calculated as GB/BIP.|\n",
    "|FB%  |Fly Ball Percentage|float|batted ball|The percentage of a batter’s balls in play that are fly balls, calculated as FB/BIP.|\n",
    "|IFFB%|Infield Fly Ball Percentage|float|batted ball|Percentage of a batter’s fly balls that were infield fly balls, calculated as IFFB/FB.|\n",
    "|HR/FB|Home Run to Fly Ball Rate|float|batted ball|Percentage of a batter’s fly balls that go for home runs, calculated as HB/FB (even though some HR are line drives).|\n",
    "|IFH% |Infield Hit Percentage|float|batted ball|Percentage of ground balls that are infield hits, calculated as IFH/GB.|\n",
    "|BUH% |Bunt Hit Percentage|float|batted ball|Percentage of bunts that go for hits, calculated as Bunt Hits/Bunts.|\n",
    "|Pull%|Pull Percentage|float|batted ball|Percentage of batted balls hit to the pull field.|\n",
    "|Cent%|Center Percentage|float|batted ball|Percentage of batted balls hit to the middle of the field.|\n",
    "|Oppo%|Opposite Field Percentage|float|batted ball|Percentage of batted balls hit to the opposite field.|\n",
    "|Soft%|Soft Contact Percentage|float|batted ball|Percentage of soft-hit batted balls.|\n",
    "|Med% |Medium Contact Percentage|float|batted ball|Percentage of medium-hit batted balls.|\n",
    "|Hard%|Hard Contact Percentage|float|batted ball|Percentage of hard-hit batted balls.|\n",
    "|prev3_pa|n/a|float|custom|Player's rolling three-day sum number of plate appearances.|\n",
    "|prev5_pa|n/a|float|custom|Player's rolling five-day sum number of plate appearances.|\n",
    "|prev3_bippa|n/a|float|custom|Player's rolling three-day sum number of plate appearances that resulted in a ball in play (no walks or strikeouts) divided by his total number of plate appearances in that span.|\n",
    "|prev5_bippa|n/a|float|custom|Player's rolling five-day sum number of plate appearances that resulted in a ball in play (no walks or strikeouts) divided by his total number of plate appearances in that span.|\n",
    "|hpa|n/a|float|custom|Player's number of hits divided by his number of plate appearances in that day's game.|\n",
    "|prev3_hpa|n/a|float|custom|Player's rolling three-day sum number of hits divided by his number of plate appearances in that span.|\n",
    "|prev5_hpa|n/a|float|custom|Player's rolling five-day sum number of hits divided by his number of plate appearances in that span.|\n",
    "|next_game_hit|n/a|bool|custom|A binary indicator of whether or not the player will record a hit in his next game. Used as the target y variable.|"
   ]
  },
  {
   "cell_type": "code",
   "execution_count": null,
   "metadata": {},
   "outputs": [],
   "source": []
  }
 ],
 "metadata": {
  "kernelspec": {
   "display_name": "Python 3",
   "language": "python",
   "name": "python3"
  },
  "language_info": {
   "codemirror_mode": {
    "name": "ipython",
    "version": 3
   },
   "file_extension": ".py",
   "mimetype": "text/x-python",
   "name": "python",
   "nbconvert_exporter": "python",
   "pygments_lexer": "ipython3",
   "version": "3.7.1"
  }
 },
 "nbformat": 4,
 "nbformat_minor": 2
}
